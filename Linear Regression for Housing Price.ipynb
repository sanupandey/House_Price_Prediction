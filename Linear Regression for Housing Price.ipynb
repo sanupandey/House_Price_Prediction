{
 "cells": [
  {
   "cell_type": "markdown",
   "metadata": {},
   "source": [
    "## Linear Regression\n",
    "\n",
    "Linear Regression is a Supervised learning algorithm in which target variable is continuous variable.\n",
    "\n",
    "Assumptions of Linear Regression:\n",
    "1. The assumption about the form of the model:\n",
    "    1. It is assumed that there is a linear relationship between the dependent and independent variables. It is known as the ‘linearity assumption’.\n",
    "2. Assumptions about the residuals:\n",
    "    1. Normality assumption: It is assumed that the error terms, ε(i), are normally distributed.\n",
    "    2. Zero mean assumption: It is assumed that the residuals have a mean value of zero, i.e., the error terms are normally distributed around zero.\n",
    "    3. Constant variance assumption: It is assumed that the residual terms have the same (but unknown) variance, σ2 . This assumption is also known as the assumption of homogeneity or homoscedasticity.\n",
    "    4. Independent error assumption: It is assumed that the residual terms are independent of each other, i.e. their pair-wise covariance is zero.\n",
    "3. Assumptions about the estimators:\n",
    "    1. The independent variables are measured without error.\n",
    "    2. The independent variables are linearly independent of each other, i.e. there is no multicollinearity in the data."
   ]
  },
  {
   "cell_type": "markdown",
   "metadata": {},
   "source": [
    "## 1. Libraries"
   ]
  },
  {
   "cell_type": "code",
   "execution_count": 1,
   "metadata": {},
   "outputs": [],
   "source": [
    "# importing all the necessary libraries\n",
    "import pandas as pd\n",
    "import numpy as np\n",
    "import matplotlib.pyplot as plt\n",
    "import seaborn as sns\n",
    "# statsmodels libraries\n",
    "import statsmodels.api as sm\n",
    "from statsmodels.stats.outliers_influence import variance_inflation_factor\n",
    "# sklearn libraries\n",
    "from sklearn.model_selection import train_test_split\n",
    "from sklearn.linear_model import LinearRegression\n",
    "from sklearn import metrics\n",
    "# import warning\n",
    "import warnings\n",
    "warnings.filterwarnings('ignore')"
   ]
  },
  {
   "cell_type": "markdown",
   "metadata": {},
   "source": [
    "## 2. Exploring Dataset :- Housing Data"
   ]
  },
  {
   "cell_type": "code",
   "execution_count": 2,
   "metadata": {},
   "outputs": [],
   "source": [
    "# reading Housing data\n",
    "data=pd.read_csv('Housing.csv')"
   ]
  },
  {
   "cell_type": "code",
   "execution_count": 3,
   "metadata": {},
   "outputs": [
    {
     "data": {
      "text/html": [
       "<div>\n",
       "<style scoped>\n",
       "    .dataframe tbody tr th:only-of-type {\n",
       "        vertical-align: middle;\n",
       "    }\n",
       "\n",
       "    .dataframe tbody tr th {\n",
       "        vertical-align: top;\n",
       "    }\n",
       "\n",
       "    .dataframe thead th {\n",
       "        text-align: right;\n",
       "    }\n",
       "</style>\n",
       "<table border=\"1\" class=\"dataframe\">\n",
       "  <thead>\n",
       "    <tr style=\"text-align: right;\">\n",
       "      <th></th>\n",
       "      <th>price</th>\n",
       "      <th>area</th>\n",
       "      <th>bedrooms</th>\n",
       "      <th>bathrooms</th>\n",
       "      <th>stories</th>\n",
       "      <th>mainroad</th>\n",
       "      <th>guestroom</th>\n",
       "      <th>basement</th>\n",
       "      <th>hotwaterheating</th>\n",
       "      <th>airconditioning</th>\n",
       "      <th>parking</th>\n",
       "      <th>prefarea</th>\n",
       "      <th>furnishingstatus</th>\n",
       "    </tr>\n",
       "  </thead>\n",
       "  <tbody>\n",
       "    <tr>\n",
       "      <th>0</th>\n",
       "      <td>13300000</td>\n",
       "      <td>7420</td>\n",
       "      <td>4</td>\n",
       "      <td>2</td>\n",
       "      <td>3</td>\n",
       "      <td>yes</td>\n",
       "      <td>no</td>\n",
       "      <td>no</td>\n",
       "      <td>no</td>\n",
       "      <td>yes</td>\n",
       "      <td>2</td>\n",
       "      <td>yes</td>\n",
       "      <td>furnished</td>\n",
       "    </tr>\n",
       "    <tr>\n",
       "      <th>1</th>\n",
       "      <td>12250000</td>\n",
       "      <td>8960</td>\n",
       "      <td>4</td>\n",
       "      <td>4</td>\n",
       "      <td>4</td>\n",
       "      <td>yes</td>\n",
       "      <td>no</td>\n",
       "      <td>no</td>\n",
       "      <td>no</td>\n",
       "      <td>yes</td>\n",
       "      <td>3</td>\n",
       "      <td>no</td>\n",
       "      <td>furnished</td>\n",
       "    </tr>\n",
       "    <tr>\n",
       "      <th>2</th>\n",
       "      <td>12250000</td>\n",
       "      <td>9960</td>\n",
       "      <td>3</td>\n",
       "      <td>2</td>\n",
       "      <td>2</td>\n",
       "      <td>yes</td>\n",
       "      <td>no</td>\n",
       "      <td>yes</td>\n",
       "      <td>no</td>\n",
       "      <td>no</td>\n",
       "      <td>2</td>\n",
       "      <td>yes</td>\n",
       "      <td>semi-furnished</td>\n",
       "    </tr>\n",
       "    <tr>\n",
       "      <th>3</th>\n",
       "      <td>12215000</td>\n",
       "      <td>7500</td>\n",
       "      <td>4</td>\n",
       "      <td>2</td>\n",
       "      <td>2</td>\n",
       "      <td>yes</td>\n",
       "      <td>no</td>\n",
       "      <td>yes</td>\n",
       "      <td>no</td>\n",
       "      <td>yes</td>\n",
       "      <td>3</td>\n",
       "      <td>yes</td>\n",
       "      <td>furnished</td>\n",
       "    </tr>\n",
       "    <tr>\n",
       "      <th>4</th>\n",
       "      <td>11410000</td>\n",
       "      <td>7420</td>\n",
       "      <td>4</td>\n",
       "      <td>1</td>\n",
       "      <td>2</td>\n",
       "      <td>yes</td>\n",
       "      <td>yes</td>\n",
       "      <td>yes</td>\n",
       "      <td>no</td>\n",
       "      <td>yes</td>\n",
       "      <td>2</td>\n",
       "      <td>no</td>\n",
       "      <td>furnished</td>\n",
       "    </tr>\n",
       "  </tbody>\n",
       "</table>\n",
       "</div>"
      ],
      "text/plain": [
       "      price  area  bedrooms  bathrooms  stories mainroad guestroom basement  \\\n",
       "0  13300000  7420         4          2        3      yes        no       no   \n",
       "1  12250000  8960         4          4        4      yes        no       no   \n",
       "2  12250000  9960         3          2        2      yes        no      yes   \n",
       "3  12215000  7500         4          2        2      yes        no      yes   \n",
       "4  11410000  7420         4          1        2      yes       yes      yes   \n",
       "\n",
       "  hotwaterheating airconditioning  parking prefarea furnishingstatus  \n",
       "0              no             yes        2      yes        furnished  \n",
       "1              no             yes        3       no        furnished  \n",
       "2              no              no        2      yes   semi-furnished  \n",
       "3              no             yes        3      yes        furnished  \n",
       "4              no             yes        2       no        furnished  "
      ]
     },
     "execution_count": 3,
     "metadata": {},
     "output_type": "execute_result"
    }
   ],
   "source": [
    "data.head()"
   ]
  },
  {
   "cell_type": "code",
   "execution_count": 4,
   "metadata": {},
   "outputs": [
    {
     "name": "stdout",
     "output_type": "stream",
     "text": [
      "<class 'pandas.core.frame.DataFrame'>\n",
      "RangeIndex: 545 entries, 0 to 544\n",
      "Data columns (total 13 columns):\n",
      " #   Column            Non-Null Count  Dtype \n",
      "---  ------            --------------  ----- \n",
      " 0   price             545 non-null    int64 \n",
      " 1   area              545 non-null    int64 \n",
      " 2   bedrooms          545 non-null    int64 \n",
      " 3   bathrooms         545 non-null    int64 \n",
      " 4   stories           545 non-null    int64 \n",
      " 5   mainroad          545 non-null    object\n",
      " 6   guestroom         545 non-null    object\n",
      " 7   basement          545 non-null    object\n",
      " 8   hotwaterheating   545 non-null    object\n",
      " 9   airconditioning   545 non-null    object\n",
      " 10  parking           545 non-null    int64 \n",
      " 11  prefarea          545 non-null    object\n",
      " 12  furnishingstatus  545 non-null    object\n",
      "dtypes: int64(6), object(7)\n",
      "memory usage: 55.5+ KB\n"
     ]
    }
   ],
   "source": [
    "# information about all the colums of our data\n",
    "data.info()"
   ]
  },
  {
   "cell_type": "markdown",
   "metadata": {},
   "source": [
    "## 3. Visualise Dataset\n",
    "\n",
    "We have two different data types of features variables\n",
    "1. Numeric variable\n",
    "2. Cateorical variable\n",
    "\n",
    "Visualising Numerical Variables"
   ]
  },
  {
   "cell_type": "code",
   "execution_count": 5,
   "metadata": {
    "scrolled": false
   },
   "outputs": [
    {
     "data": {
      "image/png": "[encoded data removed]",
      "text/plain": [
       "<Figure size 1080x360 with 5 Axes>"
      ]
     },
     "metadata": {
      "needs_background": "light"
     },
     "output_type": "display_data"
    }
   ],
   "source": [
    "# visaulise the relationship of target variable and numerical variables\n",
    "numerical_variable=['area','bedrooms','bathrooms','stories','parking']\n",
    "j=1\n",
    "\n",
    "plt.figure(figsize=(15,5))\n",
    "for i in numerical_variable:\n",
    "    plt.subplot(2,3,j)\n",
    "    j=j+1\n",
    "    plt.scatter(data[i],data[\"price\"])\n",
    "    plt.xlabel(i,fontsize=15)\n",
    "    plt.ylabel('price',fontsize=15)"
   ]
  },
  {
   "cell_type": "markdown",
   "metadata": {},
   "source": [
    "Visualising Categorical Variables"
   ]
  },
  {
   "cell_type": "code",
   "execution_count": 6,
   "metadata": {},
   "outputs": [
    {
     "data": {
      "image/png": "[encoded data removed]",
      "text/plain": [
       "<Figure size 1080x720 with 7 Axes>"
      ]
     },
     "metadata": {
      "needs_background": "light"
     },
     "output_type": "display_data"
    }
   ],
   "source": [
    "categorical_variable=['mainroad','guestroom','basement','hotwaterheating','airconditioning','prefarea','furnishingstatus']\n",
    "\n",
    "plt.figure(figsize=(15,10))\n",
    "j=1\n",
    "for i in categorical_variable:\n",
    "    plt.subplot(3,3,j)\n",
    "    j=j+1\n",
    "    sns.boxplot(x = i, y = 'price', data = data)"
   ]
  },
  {
   "cell_type": "markdown",
   "metadata": {},
   "source": [
    "## 4. Data Preparation"
   ]
  },
  {
   "cell_type": "markdown",
   "metadata": {},
   "source": [
    "We can see we have 6 features having \"Yes\"/\"No\" input. To fit our model we need to change these columns to numeric. So we will change \"Yes\" to 1 and \"No\" with 0"
   ]
  },
  {
   "cell_type": "code",
   "execution_count": 7,
   "metadata": {},
   "outputs": [],
   "source": [
    "column_with_yes_no=['mainroad','guestroom','basement','hotwaterheating','airconditioning','prefarea']\n",
    "\n",
    "data[column_with_yes_no]=data[column_with_yes_no].replace({'yes':1,'no':0})"
   ]
  },
  {
   "cell_type": "code",
   "execution_count": 8,
   "metadata": {},
   "outputs": [
    {
     "data": {
      "text/html": [
       "<div>\n",
       "<style scoped>\n",
       "    .dataframe tbody tr th:only-of-type {\n",
       "        vertical-align: middle;\n",
       "    }\n",
       "\n",
       "    .dataframe tbody tr th {\n",
       "        vertical-align: top;\n",
       "    }\n",
       "\n",
       "    .dataframe thead th {\n",
       "        text-align: right;\n",
       "    }\n",
       "</style>\n",
       "<table border=\"1\" class=\"dataframe\">\n",
       "  <thead>\n",
       "    <tr style=\"text-align: right;\">\n",
       "      <th></th>\n",
       "      <th>price</th>\n",
       "      <th>area</th>\n",
       "      <th>bedrooms</th>\n",
       "      <th>bathrooms</th>\n",
       "      <th>stories</th>\n",
       "      <th>mainroad</th>\n",
       "      <th>guestroom</th>\n",
       "      <th>basement</th>\n",
       "      <th>hotwaterheating</th>\n",
       "      <th>airconditioning</th>\n",
       "      <th>parking</th>\n",
       "      <th>prefarea</th>\n",
       "      <th>furnishingstatus</th>\n",
       "    </tr>\n",
       "  </thead>\n",
       "  <tbody>\n",
       "    <tr>\n",
       "      <th>0</th>\n",
       "      <td>13300000</td>\n",
       "      <td>7420</td>\n",
       "      <td>4</td>\n",
       "      <td>2</td>\n",
       "      <td>3</td>\n",
       "      <td>1</td>\n",
       "      <td>0</td>\n",
       "      <td>0</td>\n",
       "      <td>0</td>\n",
       "      <td>1</td>\n",
       "      <td>2</td>\n",
       "      <td>1</td>\n",
       "      <td>furnished</td>\n",
       "    </tr>\n",
       "    <tr>\n",
       "      <th>1</th>\n",
       "      <td>12250000</td>\n",
       "      <td>8960</td>\n",
       "      <td>4</td>\n",
       "      <td>4</td>\n",
       "      <td>4</td>\n",
       "      <td>1</td>\n",
       "      <td>0</td>\n",
       "      <td>0</td>\n",
       "      <td>0</td>\n",
       "      <td>1</td>\n",
       "      <td>3</td>\n",
       "      <td>0</td>\n",
       "      <td>furnished</td>\n",
       "    </tr>\n",
       "    <tr>\n",
       "      <th>2</th>\n",
       "      <td>12250000</td>\n",
       "      <td>9960</td>\n",
       "      <td>3</td>\n",
       "      <td>2</td>\n",
       "      <td>2</td>\n",
       "      <td>1</td>\n",
       "      <td>0</td>\n",
       "      <td>1</td>\n",
       "      <td>0</td>\n",
       "      <td>0</td>\n",
       "      <td>2</td>\n",
       "      <td>1</td>\n",
       "      <td>semi-furnished</td>\n",
       "    </tr>\n",
       "    <tr>\n",
       "      <th>3</th>\n",
       "      <td>12215000</td>\n",
       "      <td>7500</td>\n",
       "      <td>4</td>\n",
       "      <td>2</td>\n",
       "      <td>2</td>\n",
       "      <td>1</td>\n",
       "      <td>0</td>\n",
       "      <td>1</td>\n",
       "      <td>0</td>\n",
       "      <td>1</td>\n",
       "      <td>3</td>\n",
       "      <td>1</td>\n",
       "      <td>furnished</td>\n",
       "    </tr>\n",
       "    <tr>\n",
       "      <th>4</th>\n",
       "      <td>11410000</td>\n",
       "      <td>7420</td>\n",
       "      <td>4</td>\n",
       "      <td>1</td>\n",
       "      <td>2</td>\n",
       "      <td>1</td>\n",
       "      <td>1</td>\n",
       "      <td>1</td>\n",
       "      <td>0</td>\n",
       "      <td>1</td>\n",
       "      <td>2</td>\n",
       "      <td>0</td>\n",
       "      <td>furnished</td>\n",
       "    </tr>\n",
       "  </tbody>\n",
       "</table>\n",
       "</div>"
      ],
      "text/plain": [
       "      price  area  bedrooms  bathrooms  stories  mainroad  guestroom  \\\n",
       "0  13300000  7420         4          2        3         1          0   \n",
       "1  12250000  8960         4          4        4         1          0   \n",
       "2  12250000  9960         3          2        2         1          0   \n",
       "3  12215000  7500         4          2        2         1          0   \n",
       "4  11410000  7420         4          1        2         1          1   \n",
       "\n",
       "   basement  hotwaterheating  airconditioning  parking  prefarea  \\\n",
       "0         0                0                1        2         1   \n",
       "1         0                0                1        3         0   \n",
       "2         1                0                0        2         1   \n",
       "3         1                0                1        3         1   \n",
       "4         1                0                1        2         0   \n",
       "\n",
       "  furnishingstatus  \n",
       "0        furnished  \n",
       "1        furnished  \n",
       "2   semi-furnished  \n",
       "3        furnished  \n",
       "4        furnished  "
      ]
     },
     "execution_count": 8,
     "metadata": {},
     "output_type": "execute_result"
    }
   ],
   "source": [
    "data.head()"
   ]
  },
  {
   "cell_type": "markdown",
   "metadata": {},
   "source": [
    "We have one more categorical data type column \"furnishingstatus\". We will create two dummy columns ( because thrid column can be eplained by first two columns ) for it using \"get_dummies\"."
   ]
  },
  {
   "cell_type": "code",
   "execution_count": 9,
   "metadata": {},
   "outputs": [],
   "source": [
    "new_columns=pd.get_dummies(data[\"furnishingstatus\"],drop_first=True)"
   ]
  },
  {
   "cell_type": "code",
   "execution_count": 10,
   "metadata": {},
   "outputs": [],
   "source": [
    "housing_data=pd.concat([data,new_columns],axis=1)"
   ]
  },
  {
   "cell_type": "code",
   "execution_count": 11,
   "metadata": {},
   "outputs": [
    {
     "data": {
      "text/html": [
       "<div>\n",
       "<style scoped>\n",
       "    .dataframe tbody tr th:only-of-type {\n",
       "        vertical-align: middle;\n",
       "    }\n",
       "\n",
       "    .dataframe tbody tr th {\n",
       "        vertical-align: top;\n",
       "    }\n",
       "\n",
       "    .dataframe thead th {\n",
       "        text-align: right;\n",
       "    }\n",
       "</style>\n",
       "<table border=\"1\" class=\"dataframe\">\n",
       "  <thead>\n",
       "    <tr style=\"text-align: right;\">\n",
       "      <th></th>\n",
       "      <th>price</th>\n",
       "      <th>area</th>\n",
       "      <th>bedrooms</th>\n",
       "      <th>bathrooms</th>\n",
       "      <th>stories</th>\n",
       "      <th>mainroad</th>\n",
       "      <th>guestroom</th>\n",
       "      <th>basement</th>\n",
       "      <th>hotwaterheating</th>\n",
       "      <th>airconditioning</th>\n",
       "      <th>parking</th>\n",
       "      <th>prefarea</th>\n",
       "      <th>furnishingstatus</th>\n",
       "      <th>semi-furnished</th>\n",
       "      <th>unfurnished</th>\n",
       "    </tr>\n",
       "  </thead>\n",
       "  <tbody>\n",
       "    <tr>\n",
       "      <th>0</th>\n",
       "      <td>13300000</td>\n",
       "      <td>7420</td>\n",
       "      <td>4</td>\n",
       "      <td>2</td>\n",
       "      <td>3</td>\n",
       "      <td>1</td>\n",
       "      <td>0</td>\n",
       "      <td>0</td>\n",
       "      <td>0</td>\n",
       "      <td>1</td>\n",
       "      <td>2</td>\n",
       "      <td>1</td>\n",
       "      <td>furnished</td>\n",
       "      <td>0</td>\n",
       "      <td>0</td>\n",
       "    </tr>\n",
       "    <tr>\n",
       "      <th>1</th>\n",
       "      <td>12250000</td>\n",
       "      <td>8960</td>\n",
       "      <td>4</td>\n",
       "      <td>4</td>\n",
       "      <td>4</td>\n",
       "      <td>1</td>\n",
       "      <td>0</td>\n",
       "      <td>0</td>\n",
       "      <td>0</td>\n",
       "      <td>1</td>\n",
       "      <td>3</td>\n",
       "      <td>0</td>\n",
       "      <td>furnished</td>\n",
       "      <td>0</td>\n",
       "      <td>0</td>\n",
       "    </tr>\n",
       "    <tr>\n",
       "      <th>2</th>\n",
       "      <td>12250000</td>\n",
       "      <td>9960</td>\n",
       "      <td>3</td>\n",
       "      <td>2</td>\n",
       "      <td>2</td>\n",
       "      <td>1</td>\n",
       "      <td>0</td>\n",
       "      <td>1</td>\n",
       "      <td>0</td>\n",
       "      <td>0</td>\n",
       "      <td>2</td>\n",
       "      <td>1</td>\n",
       "      <td>semi-furnished</td>\n",
       "      <td>1</td>\n",
       "      <td>0</td>\n",
       "    </tr>\n",
       "    <tr>\n",
       "      <th>3</th>\n",
       "      <td>12215000</td>\n",
       "      <td>7500</td>\n",
       "      <td>4</td>\n",
       "      <td>2</td>\n",
       "      <td>2</td>\n",
       "      <td>1</td>\n",
       "      <td>0</td>\n",
       "      <td>1</td>\n",
       "      <td>0</td>\n",
       "      <td>1</td>\n",
       "      <td>3</td>\n",
       "      <td>1</td>\n",
       "      <td>furnished</td>\n",
       "      <td>0</td>\n",
       "      <td>0</td>\n",
       "    </tr>\n",
       "    <tr>\n",
       "      <th>4</th>\n",
       "      <td>11410000</td>\n",
       "      <td>7420</td>\n",
       "      <td>4</td>\n",
       "      <td>1</td>\n",
       "      <td>2</td>\n",
       "      <td>1</td>\n",
       "      <td>1</td>\n",
       "      <td>1</td>\n",
       "      <td>0</td>\n",
       "      <td>1</td>\n",
       "      <td>2</td>\n",
       "      <td>0</td>\n",
       "      <td>furnished</td>\n",
       "      <td>0</td>\n",
       "      <td>0</td>\n",
       "    </tr>\n",
       "  </tbody>\n",
       "</table>\n",
       "</div>"
      ],
      "text/plain": [
       "      price  area  bedrooms  bathrooms  stories  mainroad  guestroom  \\\n",
       "0  13300000  7420         4          2        3         1          0   \n",
       "1  12250000  8960         4          4        4         1          0   \n",
       "2  12250000  9960         3          2        2         1          0   \n",
       "3  12215000  7500         4          2        2         1          0   \n",
       "4  11410000  7420         4          1        2         1          1   \n",
       "\n",
       "   basement  hotwaterheating  airconditioning  parking  prefarea  \\\n",
       "0         0                0                1        2         1   \n",
       "1         0                0                1        3         0   \n",
       "2         1                0                0        2         1   \n",
       "3         1                0                1        3         1   \n",
       "4         1                0                1        2         0   \n",
       "\n",
       "  furnishingstatus  semi-furnished  unfurnished  \n",
       "0        furnished               0            0  \n",
       "1        furnished               0            0  \n",
       "2   semi-furnished               1            0  \n",
       "3        furnished               0            0  \n",
       "4        furnished               0            0  "
      ]
     },
     "execution_count": 11,
     "metadata": {},
     "output_type": "execute_result"
    }
   ],
   "source": [
    "housing_data.head()"
   ]
  },
  {
   "cell_type": "code",
   "execution_count": 12,
   "metadata": {},
   "outputs": [],
   "source": [
    "housing_data.drop('furnishingstatus',axis=1,inplace=True)"
   ]
  },
  {
   "cell_type": "code",
   "execution_count": 13,
   "metadata": {},
   "outputs": [
    {
     "data": {
      "text/html": [
       "<div>\n",
       "<style scoped>\n",
       "    .dataframe tbody tr th:only-of-type {\n",
       "        vertical-align: middle;\n",
       "    }\n",
       "\n",
       "    .dataframe tbody tr th {\n",
       "        vertical-align: top;\n",
       "    }\n",
       "\n",
       "    .dataframe thead th {\n",
       "        text-align: right;\n",
       "    }\n",
       "</style>\n",
       "<table border=\"1\" class=\"dataframe\">\n",
       "  <thead>\n",
       "    <tr style=\"text-align: right;\">\n",
       "      <th></th>\n",
       "      <th>price</th>\n",
       "      <th>area</th>\n",
       "      <th>bedrooms</th>\n",
       "      <th>bathrooms</th>\n",
       "      <th>stories</th>\n",
       "      <th>mainroad</th>\n",
       "      <th>guestroom</th>\n",
       "      <th>basement</th>\n",
       "      <th>hotwaterheating</th>\n",
       "      <th>airconditioning</th>\n",
       "      <th>parking</th>\n",
       "      <th>prefarea</th>\n",
       "      <th>semi-furnished</th>\n",
       "      <th>unfurnished</th>\n",
       "    </tr>\n",
       "  </thead>\n",
       "  <tbody>\n",
       "    <tr>\n",
       "      <th>0</th>\n",
       "      <td>13300000</td>\n",
       "      <td>7420</td>\n",
       "      <td>4</td>\n",
       "      <td>2</td>\n",
       "      <td>3</td>\n",
       "      <td>1</td>\n",
       "      <td>0</td>\n",
       "      <td>0</td>\n",
       "      <td>0</td>\n",
       "      <td>1</td>\n",
       "      <td>2</td>\n",
       "      <td>1</td>\n",
       "      <td>0</td>\n",
       "      <td>0</td>\n",
       "    </tr>\n",
       "    <tr>\n",
       "      <th>1</th>\n",
       "      <td>12250000</td>\n",
       "      <td>8960</td>\n",
       "      <td>4</td>\n",
       "      <td>4</td>\n",
       "      <td>4</td>\n",
       "      <td>1</td>\n",
       "      <td>0</td>\n",
       "      <td>0</td>\n",
       "      <td>0</td>\n",
       "      <td>1</td>\n",
       "      <td>3</td>\n",
       "      <td>0</td>\n",
       "      <td>0</td>\n",
       "      <td>0</td>\n",
       "    </tr>\n",
       "    <tr>\n",
       "      <th>2</th>\n",
       "      <td>12250000</td>\n",
       "      <td>9960</td>\n",
       "      <td>3</td>\n",
       "      <td>2</td>\n",
       "      <td>2</td>\n",
       "      <td>1</td>\n",
       "      <td>0</td>\n",
       "      <td>1</td>\n",
       "      <td>0</td>\n",
       "      <td>0</td>\n",
       "      <td>2</td>\n",
       "      <td>1</td>\n",
       "      <td>1</td>\n",
       "      <td>0</td>\n",
       "    </tr>\n",
       "    <tr>\n",
       "      <th>3</th>\n",
       "      <td>12215000</td>\n",
       "      <td>7500</td>\n",
       "      <td>4</td>\n",
       "      <td>2</td>\n",
       "      <td>2</td>\n",
       "      <td>1</td>\n",
       "      <td>0</td>\n",
       "      <td>1</td>\n",
       "      <td>0</td>\n",
       "      <td>1</td>\n",
       "      <td>3</td>\n",
       "      <td>1</td>\n",
       "      <td>0</td>\n",
       "      <td>0</td>\n",
       "    </tr>\n",
       "    <tr>\n",
       "      <th>4</th>\n",
       "      <td>11410000</td>\n",
       "      <td>7420</td>\n",
       "      <td>4</td>\n",
       "      <td>1</td>\n",
       "      <td>2</td>\n",
       "      <td>1</td>\n",
       "      <td>1</td>\n",
       "      <td>1</td>\n",
       "      <td>0</td>\n",
       "      <td>1</td>\n",
       "      <td>2</td>\n",
       "      <td>0</td>\n",
       "      <td>0</td>\n",
       "      <td>0</td>\n",
       "    </tr>\n",
       "  </tbody>\n",
       "</table>\n",
       "</div>"
      ],
      "text/plain": [
       "      price  area  bedrooms  bathrooms  stories  mainroad  guestroom  \\\n",
       "0  13300000  7420         4          2        3         1          0   \n",
       "1  12250000  8960         4          4        4         1          0   \n",
       "2  12250000  9960         3          2        2         1          0   \n",
       "3  12215000  7500         4          2        2         1          0   \n",
       "4  11410000  7420         4          1        2         1          1   \n",
       "\n",
       "   basement  hotwaterheating  airconditioning  parking  prefarea  \\\n",
       "0         0                0                1        2         1   \n",
       "1         0                0                1        3         0   \n",
       "2         1                0                0        2         1   \n",
       "3         1                0                1        3         1   \n",
       "4         1                0                1        2         0   \n",
       "\n",
       "   semi-furnished  unfurnished  \n",
       "0               0            0  \n",
       "1               0            0  \n",
       "2               1            0  \n",
       "3               0            0  \n",
       "4               0            0  "
      ]
     },
     "execution_count": 13,
     "metadata": {},
     "output_type": "execute_result"
    }
   ],
   "source": [
    "housing_data.head()"
   ]
  },
  {
   "cell_type": "markdown",
   "metadata": {},
   "source": [
    "## 5. Data split into Train and Test"
   ]
  },
  {
   "cell_type": "code",
   "execution_count": 14,
   "metadata": {},
   "outputs": [],
   "source": [
    "X=housing_data[list(set(housing_data.columns)-set('price'))]\n",
    "y=housing_data['price']"
   ]
  },
  {
   "cell_type": "code",
   "execution_count": 15,
   "metadata": {},
   "outputs": [],
   "source": [
    "train,test=train_test_split(X,train_size=0.7,random_state=100)"
   ]
  },
  {
   "cell_type": "code",
   "execution_count": 16,
   "metadata": {},
   "outputs": [
    {
     "data": {
      "text/plain": [
       "((381, 14), (164, 14))"
      ]
     },
     "execution_count": 16,
     "metadata": {},
     "output_type": "execute_result"
    }
   ],
   "source": [
    "train.shape,test.shape"
   ]
  },
  {
   "cell_type": "markdown",
   "metadata": {},
   "source": [
    "Here we can see all the columns except 'area' hae smaller values. So to get unbiased model result its good to do stadardization of columns except for the columns that we changed categorical to numeric( yes/no columns and dummy columns)"
   ]
  },
  {
   "cell_type": "code",
   "execution_count": 17,
   "metadata": {},
   "outputs": [],
   "source": [
    "from sklearn.preprocessing import MinMaxScaler\n",
    "\n",
    "numerical_variable = ['area', 'bedrooms', 'bathrooms', 'stories', 'parking','price']\n",
    "\n",
    "train[numerical_variable]=MinMaxScaler().fit_transform(train[numerical_variable])"
   ]
  },
  {
   "cell_type": "markdown",
   "metadata": {},
   "source": [
    "Checking correlation between columns"
   ]
  },
  {
   "cell_type": "code",
   "execution_count": 18,
   "metadata": {},
   "outputs": [
    {
     "data": {
      "text/html": [
       "<div>\n",
       "<style scoped>\n",
       "    .dataframe tbody tr th:only-of-type {\n",
       "        vertical-align: middle;\n",
       "    }\n",
       "\n",
       "    .dataframe tbody tr th {\n",
       "        vertical-align: top;\n",
       "    }\n",
       "\n",
       "    .dataframe thead th {\n",
       "        text-align: right;\n",
       "    }\n",
       "</style>\n",
       "<table border=\"1\" class=\"dataframe\">\n",
       "  <thead>\n",
       "    <tr style=\"text-align: right;\">\n",
       "      <th></th>\n",
       "      <th>mainroad</th>\n",
       "      <th>basement</th>\n",
       "      <th>prefarea</th>\n",
       "      <th>price</th>\n",
       "      <th>parking</th>\n",
       "      <th>semi-furnished</th>\n",
       "      <th>stories</th>\n",
       "      <th>bedrooms</th>\n",
       "      <th>hotwaterheating</th>\n",
       "      <th>area</th>\n",
       "      <th>unfurnished</th>\n",
       "      <th>bathrooms</th>\n",
       "      <th>guestroom</th>\n",
       "      <th>airconditioning</th>\n",
       "    </tr>\n",
       "  </thead>\n",
       "  <tbody>\n",
       "    <tr>\n",
       "      <th>mainroad</th>\n",
       "      <td>1.000000</td>\n",
       "      <td>0.067937</td>\n",
       "      <td>0.191465</td>\n",
       "      <td>0.319208</td>\n",
       "      <td>0.200389</td>\n",
       "      <td>0.012254</td>\n",
       "      <td>0.129427</td>\n",
       "      <td>0.012655</td>\n",
       "      <td>-0.003779</td>\n",
       "      <td>0.308272</td>\n",
       "      <td>-0.129101</td>\n",
       "      <td>0.031716</td>\n",
       "      <td>0.106875</td>\n",
       "      <td>0.056375</td>\n",
       "    </tr>\n",
       "    <tr>\n",
       "      <th>basement</th>\n",
       "      <td>0.067937</td>\n",
       "      <td>1.000000</td>\n",
       "      <td>0.203933</td>\n",
       "      <td>0.200743</td>\n",
       "      <td>0.042203</td>\n",
       "      <td>0.049430</td>\n",
       "      <td>-0.155313</td>\n",
       "      <td>0.120618</td>\n",
       "      <td>0.023806</td>\n",
       "      <td>0.106971</td>\n",
       "      <td>-0.077562</td>\n",
       "      <td>0.120857</td>\n",
       "      <td>0.367345</td>\n",
       "      <td>0.082892</td>\n",
       "    </tr>\n",
       "    <tr>\n",
       "      <th>prefarea</th>\n",
       "      <td>0.191465</td>\n",
       "      <td>0.203933</td>\n",
       "      <td>1.000000</td>\n",
       "      <td>0.344543</td>\n",
       "      <td>0.081780</td>\n",
       "      <td>0.001157</td>\n",
       "      <td>0.072192</td>\n",
       "      <td>0.076503</td>\n",
       "      <td>-0.074318</td>\n",
       "      <td>0.279878</td>\n",
       "      <td>-0.078983</td>\n",
       "      <td>0.061584</td>\n",
       "      <td>0.161877</td>\n",
       "      <td>0.099840</td>\n",
       "    </tr>\n",
       "    <tr>\n",
       "      <th>price</th>\n",
       "      <td>0.319208</td>\n",
       "      <td>0.200743</td>\n",
       "      <td>0.344543</td>\n",
       "      <td>1.000000</td>\n",
       "      <td>0.352081</td>\n",
       "      <td>0.078917</td>\n",
       "      <td>0.409464</td>\n",
       "      <td>0.349825</td>\n",
       "      <td>0.141202</td>\n",
       "      <td>0.532025</td>\n",
       "      <td>-0.270114</td>\n",
       "      <td>0.524246</td>\n",
       "      <td>0.265877</td>\n",
       "      <td>0.433162</td>\n",
       "    </tr>\n",
       "    <tr>\n",
       "      <th>parking</th>\n",
       "      <td>0.200389</td>\n",
       "      <td>0.042203</td>\n",
       "      <td>0.081780</td>\n",
       "      <td>0.352081</td>\n",
       "      <td>1.000000</td>\n",
       "      <td>0.044331</td>\n",
       "      <td>0.009708</td>\n",
       "      <td>0.120363</td>\n",
       "      <td>0.074999</td>\n",
       "      <td>0.365658</td>\n",
       "      <td>-0.138313</td>\n",
       "      <td>0.138241</td>\n",
       "      <td>-0.010240</td>\n",
       "      <td>0.188132</td>\n",
       "    </tr>\n",
       "    <tr>\n",
       "      <th>semi-furnished</th>\n",
       "      <td>0.012254</td>\n",
       "      <td>0.049430</td>\n",
       "      <td>0.001157</td>\n",
       "      <td>0.078917</td>\n",
       "      <td>0.044331</td>\n",
       "      <td>1.000000</td>\n",
       "      <td>-0.001883</td>\n",
       "      <td>0.049111</td>\n",
       "      <td>0.064641</td>\n",
       "      <td>-0.040753</td>\n",
       "      <td>-0.584683</td>\n",
       "      <td>0.065987</td>\n",
       "      <td>0.000632</td>\n",
       "      <td>-0.026475</td>\n",
       "    </tr>\n",
       "    <tr>\n",
       "      <th>stories</th>\n",
       "      <td>0.129427</td>\n",
       "      <td>-0.155313</td>\n",
       "      <td>0.072192</td>\n",
       "      <td>0.409464</td>\n",
       "      <td>0.009708</td>\n",
       "      <td>-0.001883</td>\n",
       "      <td>1.000000</td>\n",
       "      <td>0.419582</td>\n",
       "      <td>-0.001538</td>\n",
       "      <td>0.069274</td>\n",
       "      <td>-0.088199</td>\n",
       "      <td>0.295689</td>\n",
       "      <td>0.068088</td>\n",
       "      <td>0.279779</td>\n",
       "    </tr>\n",
       "    <tr>\n",
       "      <th>bedrooms</th>\n",
       "      <td>0.012655</td>\n",
       "      <td>0.120618</td>\n",
       "      <td>0.076503</td>\n",
       "      <td>0.349825</td>\n",
       "      <td>0.120363</td>\n",
       "      <td>0.049111</td>\n",
       "      <td>0.419582</td>\n",
       "      <td>1.000000</td>\n",
       "      <td>0.085818</td>\n",
       "      <td>0.097462</td>\n",
       "      <td>-0.125921</td>\n",
       "      <td>0.346925</td>\n",
       "      <td>0.089488</td>\n",
       "      <td>0.161890</td>\n",
       "    </tr>\n",
       "    <tr>\n",
       "      <th>hotwaterheating</th>\n",
       "      <td>-0.003779</td>\n",
       "      <td>0.023806</td>\n",
       "      <td>-0.074318</td>\n",
       "      <td>0.141202</td>\n",
       "      <td>0.074999</td>\n",
       "      <td>0.064641</td>\n",
       "      <td>-0.001538</td>\n",
       "      <td>0.085818</td>\n",
       "      <td>1.000000</td>\n",
       "      <td>0.037719</td>\n",
       "      <td>-0.063025</td>\n",
       "      <td>0.112732</td>\n",
       "      <td>0.018394</td>\n",
       "      <td>-0.153801</td>\n",
       "    </tr>\n",
       "    <tr>\n",
       "      <th>area</th>\n",
       "      <td>0.308272</td>\n",
       "      <td>0.106971</td>\n",
       "      <td>0.279878</td>\n",
       "      <td>0.532025</td>\n",
       "      <td>0.365658</td>\n",
       "      <td>-0.040753</td>\n",
       "      <td>0.069274</td>\n",
       "      <td>0.097462</td>\n",
       "      <td>0.037719</td>\n",
       "      <td>1.000000</td>\n",
       "      <td>-0.131524</td>\n",
       "      <td>0.163446</td>\n",
       "      <td>0.155665</td>\n",
       "      <td>0.215888</td>\n",
       "    </tr>\n",
       "    <tr>\n",
       "      <th>unfurnished</th>\n",
       "      <td>-0.129101</td>\n",
       "      <td>-0.077562</td>\n",
       "      <td>-0.078983</td>\n",
       "      <td>-0.270114</td>\n",
       "      <td>-0.138313</td>\n",
       "      <td>-0.584683</td>\n",
       "      <td>-0.088199</td>\n",
       "      <td>-0.125921</td>\n",
       "      <td>-0.063025</td>\n",
       "      <td>-0.131524</td>\n",
       "      <td>1.000000</td>\n",
       "      <td>-0.128192</td>\n",
       "      <td>-0.017198</td>\n",
       "      <td>-0.123584</td>\n",
       "    </tr>\n",
       "    <tr>\n",
       "      <th>bathrooms</th>\n",
       "      <td>0.031716</td>\n",
       "      <td>0.120857</td>\n",
       "      <td>0.061584</td>\n",
       "      <td>0.524246</td>\n",
       "      <td>0.138241</td>\n",
       "      <td>0.065987</td>\n",
       "      <td>0.295689</td>\n",
       "      <td>0.346925</td>\n",
       "      <td>0.112732</td>\n",
       "      <td>0.163446</td>\n",
       "      <td>-0.128192</td>\n",
       "      <td>1.000000</td>\n",
       "      <td>0.150982</td>\n",
       "      <td>0.228315</td>\n",
       "    </tr>\n",
       "    <tr>\n",
       "      <th>guestroom</th>\n",
       "      <td>0.106875</td>\n",
       "      <td>0.367345</td>\n",
       "      <td>0.161877</td>\n",
       "      <td>0.265877</td>\n",
       "      <td>-0.010240</td>\n",
       "      <td>0.000632</td>\n",
       "      <td>0.068088</td>\n",
       "      <td>0.089488</td>\n",
       "      <td>0.018394</td>\n",
       "      <td>0.155665</td>\n",
       "      <td>-0.017198</td>\n",
       "      <td>0.150982</td>\n",
       "      <td>1.000000</td>\n",
       "      <td>0.130300</td>\n",
       "    </tr>\n",
       "    <tr>\n",
       "      <th>airconditioning</th>\n",
       "      <td>0.056375</td>\n",
       "      <td>0.082892</td>\n",
       "      <td>0.099840</td>\n",
       "      <td>0.433162</td>\n",
       "      <td>0.188132</td>\n",
       "      <td>-0.026475</td>\n",
       "      <td>0.279779</td>\n",
       "      <td>0.161890</td>\n",
       "      <td>-0.153801</td>\n",
       "      <td>0.215888</td>\n",
       "      <td>-0.123584</td>\n",
       "      <td>0.228315</td>\n",
       "      <td>0.130300</td>\n",
       "      <td>1.000000</td>\n",
       "    </tr>\n",
       "  </tbody>\n",
       "</table>\n",
       "</div>"
      ],
      "text/plain": [
       "                 mainroad  basement  prefarea     price   parking  \\\n",
       "mainroad         1.000000  0.067937  0.191465  0.319208  0.200389   \n",
       "basement         0.067937  1.000000  0.203933  0.200743  0.042203   \n",
       "prefarea         0.191465  0.203933  1.000000  0.344543  0.081780   \n",
       "price            0.319208  0.200743  0.344543  1.000000  0.352081   \n",
       "parking          0.200389  0.042203  0.081780  0.352081  1.000000   \n",
       "semi-furnished   0.012254  0.049430  0.001157  0.078917  0.044331   \n",
       "stories          0.129427 -0.155313  0.072192  0.409464  0.009708   \n",
       "bedrooms         0.012655  0.120618  0.076503  0.349825  0.120363   \n",
       "hotwaterheating -0.003779  0.023806 -0.074318  0.141202  0.074999   \n",
       "area             0.308272  0.106971  0.279878  0.532025  0.365658   \n",
       "unfurnished     -0.129101 -0.077562 -0.078983 -0.270114 -0.138313   \n",
       "bathrooms        0.031716  0.120857  0.061584  0.524246  0.138241   \n",
       "guestroom        0.106875  0.367345  0.161877  0.265877 -0.010240   \n",
       "airconditioning  0.056375  0.082892  0.099840  0.433162  0.188132   \n",
       "\n",
       "                 semi-furnished   stories  bedrooms  hotwaterheating  \\\n",
       "mainroad               0.012254  0.129427  0.012655        -0.003779   \n",
       "basement               0.049430 -0.155313  0.120618         0.023806   \n",
       "prefarea               0.001157  0.072192  0.076503        -0.074318   \n",
       "price                  0.078917  0.409464  0.349825         0.141202   \n",
       "parking                0.044331  0.009708  0.120363         0.074999   \n",
       "semi-furnished         1.000000 -0.001883  0.049111         0.064641   \n",
       "stories               -0.001883  1.000000  0.419582        -0.001538   \n",
       "bedrooms               0.049111  0.419582  1.000000         0.085818   \n",
       "hotwaterheating        0.064641 -0.001538  0.085818         1.000000   \n",
       "area                  -0.040753  0.069274  0.097462         0.037719   \n",
       "unfurnished           -0.584683 -0.088199 -0.125921        -0.063025   \n",
       "bathrooms              0.065987  0.295689  0.346925         0.112732   \n",
       "guestroom              0.000632  0.068088  0.089488         0.018394   \n",
       "airconditioning       -0.026475  0.279779  0.161890        -0.153801   \n",
       "\n",
       "                     area  unfurnished  bathrooms  guestroom  airconditioning  \n",
       "mainroad         0.308272    -0.129101   0.031716   0.106875         0.056375  \n",
       "basement         0.106971    -0.077562   0.120857   0.367345         0.082892  \n",
       "prefarea         0.279878    -0.078983   0.061584   0.161877         0.099840  \n",
       "price            0.532025    -0.270114   0.524246   0.265877         0.433162  \n",
       "parking          0.365658    -0.138313   0.138241  -0.010240         0.188132  \n",
       "semi-furnished  -0.040753    -0.584683   0.065987   0.000632        -0.026475  \n",
       "stories          0.069274    -0.088199   0.295689   0.068088         0.279779  \n",
       "bedrooms         0.097462    -0.125921   0.346925   0.089488         0.161890  \n",
       "hotwaterheating  0.037719    -0.063025   0.112732   0.018394        -0.153801  \n",
       "area             1.000000    -0.131524   0.163446   0.155665         0.215888  \n",
       "unfurnished     -0.131524     1.000000  -0.128192  -0.017198        -0.123584  \n",
       "bathrooms        0.163446    -0.128192   1.000000   0.150982         0.228315  \n",
       "guestroom        0.155665    -0.017198   0.150982   1.000000         0.130300  \n",
       "airconditioning  0.215888    -0.123584   0.228315   0.130300         1.000000  "
      ]
     },
     "execution_count": 18,
     "metadata": {},
     "output_type": "execute_result"
    }
   ],
   "source": [
    "train.corr()"
   ]
  },
  {
   "cell_type": "code",
   "execution_count": 19,
   "metadata": {},
   "outputs": [
    {
     "data": {
      "image/png": "[encoded data removed]",
      "text/plain": [
       "<Figure size 1080x360 with 2 Axes>"
      ]
     },
     "metadata": {
      "needs_background": "light"
     },
     "output_type": "display_data"
    }
   ],
   "source": [
    "plt.figure(figsize=(15,5))\n",
    "sns.heatmap(train.corr(),annot=True,cmap='YlGnBu')\n",
    "plt.show()"
   ]
  },
  {
   "cell_type": "markdown",
   "metadata": {},
   "source": [
    "We can see correlation between column 'price' and column 'area' is highest. So lets make the univariate model by taking feature column as 'area'."
   ]
  },
  {
   "cell_type": "markdown",
   "metadata": {},
   "source": [
    "## 6. Simple Linear Regression"
   ]
  },
  {
   "cell_type": "markdown",
   "metadata": {},
   "source": [
    "Simple linear regression is a method for predicting a quantitative response using a single feature.\n",
    "\n",
    "Equation of Simple Linear Regression is:-\n",
    "\n",
    "y=β0+β1x \n",
    "\n",
    "where\n",
    "\n",
    "β0 s the constant of intercept,\n",
    "\n",
    "β1 is the coefficient for x,\n",
    "\n",
    "x is data points,\n",
    "\n",
    "y is output of each data point(x)\n",
    "\n",
    "Lets plot the graph between the house's area and it's price."
   ]
  },
  {
   "cell_type": "code",
   "execution_count": 20,
   "metadata": {},
   "outputs": [],
   "source": [
    "X_train=train[list(set(train.columns)-set('price'))]\n",
    "y_train=train['price']"
   ]
  },
  {
   "cell_type": "code",
   "execution_count": 21,
   "metadata": {},
   "outputs": [
    {
     "data": {
      "image/png": "[encoded data removed]",
      "text/plain": [
       "<Figure size 432x288 with 1 Axes>"
      ]
     },
     "metadata": {
      "needs_background": "light"
     },
     "output_type": "display_data"
    }
   ],
   "source": [
    "plt.scatter(X_train['area'],X_train['price'])\n",
    "plt.xlabel('arae',fontsize=15)\n",
    "plt.ylabel('price',fontsize=15)\n",
    "plt.show()"
   ]
  },
  {
   "cell_type": "markdown",
   "metadata": {},
   "source": [
    "Now lets find model coefficient using `Statsmodel`"
   ]
  },
  {
   "cell_type": "code",
   "execution_count": 22,
   "metadata": {
    "scrolled": true
   },
   "outputs": [
    {
     "data": {
      "text/plain": [
       "const    0.12689\n",
       "area     0.46219\n",
       "dtype: float64"
      ]
     },
     "execution_count": 22,
     "metadata": {},
     "output_type": "execute_result"
    }
   ],
   "source": [
    "# add constant\n",
    "X_train_lm  = sm.add_constant(X_train['area'])\n",
    "\n",
    "# creating OLS model\n",
    "lm1= sm.OLS(y_train,X_train_lm).fit()\n",
    "\n",
    "# parameters\n",
    "lm1.params.round(5)"
   ]
  },
  {
   "cell_type": "markdown",
   "metadata": {},
   "source": [
    "Now lets find model coefficient using `Scikit-Learn`"
   ]
  },
  {
   "cell_type": "code",
   "execution_count": 23,
   "metadata": {},
   "outputs": [
    {
     "name": "stdout",
     "output_type": "stream",
     "text": [
      "0.12689\n",
      "[0.46219]\n"
     ]
    }
   ],
   "source": [
    "lm2=LinearRegression()\n",
    "\n",
    "lm2.fit(np.array(X_train['area']).reshape(-1,1),y_train)\n",
    "print(lm2.intercept_.round(5))\n",
    "print(lm2.coef_.round(5))"
   ]
  },
  {
   "cell_type": "markdown",
   "metadata": {},
   "source": [
    "## 7. Use this model for prediction"
   ]
  },
  {
   "cell_type": "markdown",
   "metadata": {},
   "source": [
    "$y = β0+ β1x$\n",
    "\n",
    "$y= 0.12689 + 0.46219*x$\n",
    "\n",
    "Lets take the case if are of any house is 10000 sq foot than the price of that house according of our model would be\n",
    "\n",
    "$y= 0.12689 + 0.46219*10000 =4622$"
   ]
  },
  {
   "cell_type": "code",
   "execution_count": 24,
   "metadata": {},
   "outputs": [
    {
     "data": {
      "text/plain": [
       "array([4622.04678263])"
      ]
     },
     "execution_count": 24,
     "metadata": {},
     "output_type": "execute_result"
    }
   ],
   "source": [
    "lm2.predict(np.array([10000]).reshape(1,-1))"
   ]
  },
  {
   "cell_type": "markdown",
   "metadata": {},
   "source": [
    "## 8. Plotting the least square Lines"
   ]
  },
  {
   "cell_type": "code",
   "execution_count": 25,
   "metadata": {},
   "outputs": [
    {
     "data": {
      "image/png": "[encoded data removed]",
      "text/plain": [
       "<Figure size 1080x360 with 1 Axes>"
      ]
     },
     "metadata": {
      "needs_background": "light"
     },
     "output_type": "display_data"
    }
   ],
   "source": [
    "plt.figure(figsize=(15,5))\n",
    "plt.scatter(X_train['area'],X_train['price'])\n",
    "plt.plot(X_train_lm.iloc[:, 1], 0.127 + 0.462*X_train_lm.iloc[:, 1],'r',label='regression line')\n",
    "plt.xlabel('area',fontsize=15)\n",
    "plt.ylabel('price',fontsize=15)\n",
    "plt.legend()\n",
    "plt.show()"
   ]
  },
  {
   "cell_type": "code",
   "execution_count": 26,
   "metadata": {},
   "outputs": [
    {
     "data": {
      "text/plain": [
       "0.2830500764266308"
      ]
     },
     "execution_count": 26,
     "metadata": {},
     "output_type": "execute_result"
    }
   ],
   "source": [
    "lm1.rsquared"
   ]
  },
  {
   "cell_type": "code",
   "execution_count": 27,
   "metadata": {},
   "outputs": [
    {
     "name": "stdout",
     "output_type": "stream",
     "text": [
      "                            OLS Regression Results                            \n",
      "==============================================================================\n",
      "Dep. Variable:                  price   R-squared:                       0.283\n",
      "Model:                            OLS   Adj. R-squared:                  0.281\n",
      "Method:                 Least Squares   F-statistic:                     149.6\n",
      "Date:                Sun, 20 Jun 2021   Prob (F-statistic):           3.15e-29\n",
      "Time:                        18:14:25   Log-Likelihood:                 227.23\n",
      "No. Observations:                 381   AIC:                            -450.5\n",
      "Df Residuals:                     379   BIC:                            -442.6\n",
      "Df Model:                           1                                         \n",
      "Covariance Type:            nonrobust                                         \n",
      "==============================================================================\n",
      "                 coef    std err          t      P>|t|      [0.025      0.975]\n",
      "------------------------------------------------------------------------------\n",
      "const          0.1269      0.013      9.853      0.000       0.102       0.152\n",
      "area           0.4622      0.038     12.232      0.000       0.388       0.536\n",
      "==============================================================================\n",
      "Omnibus:                       67.313   Durbin-Watson:                   2.018\n",
      "Prob(Omnibus):                  0.000   Jarque-Bera (JB):              143.063\n",
      "Skew:                           0.925   Prob(JB):                     8.59e-32\n",
      "Kurtosis:                       5.365   Cond. No.                         5.99\n",
      "==============================================================================\n",
      "\n",
      "Notes:\n",
      "[1] Standard Errors assume that the covariance matrix of the errors is correctly specified.\n"
     ]
    }
   ],
   "source": [
    "print(lm1.summary())"
   ]
  },
  {
   "cell_type": "markdown",
   "metadata": {},
   "source": [
    "The main difference between adjusted R-squared and R-square is that R-squared describes the amount of variance of the dependent variable represented by every single independent variable, while adjusted R-squared measures variation explained by only the independent variables that actually affect the dependent variable.\n"
   ]
  },
  {
   "cell_type": "markdown",
   "metadata": {},
   "source": [
    "## 9. Residual Analysis"
   ]
  },
  {
   "cell_type": "markdown",
   "metadata": {},
   "source": [
    "`StastsModel`"
   ]
  },
  {
   "cell_type": "code",
   "execution_count": 28,
   "metadata": {},
   "outputs": [],
   "source": [
    "y_train_pred=lm1.predict(X_train_lm)"
   ]
  },
  {
   "cell_type": "code",
   "execution_count": 29,
   "metadata": {},
   "outputs": [
    {
     "data": {
      "text/plain": [
       "Text(0.5, 0, 'Errors')"
      ]
     },
     "execution_count": 29,
     "metadata": {},
     "output_type": "execute_result"
    },
    {
     "data": {
      "image/png": "[encoded data removed]",
      "text/plain": [
       "<Figure size 432x288 with 1 Axes>"
      ]
     },
     "metadata": {
      "needs_background": "light"
     },
     "output_type": "display_data"
    }
   ],
   "source": [
    "sns.distplot((y_train - y_train_pred), bins = 20)\n",
    "plt.title('Error Terms', fontsize = 20) \n",
    "plt.xlabel('Errors', fontsize = 15)     "
   ]
  },
  {
   "cell_type": "markdown",
   "metadata": {},
   "source": [
    "`Scikit-Learn`"
   ]
  },
  {
   "cell_type": "code",
   "execution_count": 30,
   "metadata": {},
   "outputs": [],
   "source": [
    "y_train_pred=lm2.predict(np.array(X_train['area']).reshape(-1,1))"
   ]
  },
  {
   "cell_type": "code",
   "execution_count": 31,
   "metadata": {},
   "outputs": [
    {
     "data": {
      "text/plain": [
       "Text(0.5, 0, 'Errors')"
      ]
     },
     "execution_count": 31,
     "metadata": {},
     "output_type": "execute_result"
    },
    {
     "data": {
      "image/png": "[encoded data removed]",
      "text/plain": [
       "<Figure size 432x288 with 1 Axes>"
      ]
     },
     "metadata": {
      "needs_background": "light"
     },
     "output_type": "display_data"
    }
   ],
   "source": [
    "sns.distplot((y_train - y_train_pred), bins = 20)\n",
    "plt.title('Error Terms', fontsize = 20) \n",
    "plt.xlabel('Errors', fontsize = 15)     "
   ]
  },
  {
   "cell_type": "markdown",
   "metadata": {},
   "source": [
    "## 10. Making Prediction"
   ]
  },
  {
   "cell_type": "code",
   "execution_count": 32,
   "metadata": {},
   "outputs": [],
   "source": [
    "from sklearn.preprocessing import MinMaxScaler\n",
    "\n",
    "numerical_variable = ['area', 'bedrooms', 'bathrooms', 'stories', 'parking','price']\n",
    "\n",
    "test[numerical_variable]=MinMaxScaler().fit_transform(test[numerical_variable])"
   ]
  },
  {
   "cell_type": "code",
   "execution_count": 33,
   "metadata": {},
   "outputs": [],
   "source": [
    "X_test=test[list(set(test.columns)-set('price'))]\n",
    "y_test=test['price']"
   ]
  },
  {
   "cell_type": "markdown",
   "metadata": {},
   "source": [
    "`StatsModel`"
   ]
  },
  {
   "cell_type": "code",
   "execution_count": 34,
   "metadata": {},
   "outputs": [],
   "source": [
    "X_test_lm=sm.add_constant(X_test['area'])\n",
    "y_test_pred=lm1.predict(X_test_lm)"
   ]
  },
  {
   "cell_type": "code",
   "execution_count": 35,
   "metadata": {
    "scrolled": true
   },
   "outputs": [
    {
     "data": {
      "image/png": "[encoded data removed]",
      "text/plain": [
       "<Figure size 432x288 with 1 Axes>"
      ]
     },
     "metadata": {
      "needs_background": "light"
     },
     "output_type": "display_data"
    }
   ],
   "source": [
    "plt.scatter(y_test_pred,y_test)\n",
    "plt.xlabel('y_test_pred',fontsize=15)\n",
    "plt.ylabel('y_test',fontsize=15)\n",
    "plt.show()"
   ]
  },
  {
   "cell_type": "code",
   "execution_count": 36,
   "metadata": {},
   "outputs": [
    {
     "name": "stdout",
     "output_type": "stream",
     "text": [
      "MAE = 0.12069533510155059\n",
      "MSE = 0.028092473996349124\n",
      "RMSE = 0.1676080964522571\n"
     ]
    }
   ],
   "source": [
    "print(\"MAE =\",metrics.mean_absolute_error(y_test, y_test_pred))\n",
    "print(\"MSE =\",metrics.mean_squared_error(y_test, y_test_pred))\n",
    "print(\"RMSE =\",np.sqrt(metrics.mean_squared_error(y_test, y_test_pred)))"
   ]
  },
  {
   "cell_type": "markdown",
   "metadata": {},
   "source": [
    "`Scikit-Learn`"
   ]
  },
  {
   "cell_type": "code",
   "execution_count": 37,
   "metadata": {},
   "outputs": [],
   "source": [
    "y_test_pred=lm2.predict(np.array(X_test['area']).reshape(-1,1))"
   ]
  },
  {
   "cell_type": "code",
   "execution_count": 38,
   "metadata": {},
   "outputs": [
    {
     "data": {
      "image/png": "[encoded data removed]",
      "text/plain": [
       "<Figure size 432x288 with 1 Axes>"
      ]
     },
     "metadata": {
      "needs_background": "light"
     },
     "output_type": "display_data"
    }
   ],
   "source": [
    "plt.scatter(y_test_pred,y_test)\n",
    "plt.xlabel('y_test_pred',fontsize=15)\n",
    "plt.ylabel('y_test',fontsize=15)\n",
    "plt.show()"
   ]
  },
  {
   "cell_type": "code",
   "execution_count": 39,
   "metadata": {},
   "outputs": [
    {
     "name": "stdout",
     "output_type": "stream",
     "text": [
      "MAE = 0.12069533510155063\n",
      "MSE = 0.028092473996349142\n",
      "RMSE = 0.16760809645225716\n"
     ]
    }
   ],
   "source": [
    "print(\"MAE =\",metrics.mean_absolute_error(y_test, y_test_pred))\n",
    "print(\"MSE =\",metrics.mean_squared_error(y_test, y_test_pred))\n",
    "print(\"RMSE =\",np.sqrt(metrics.mean_squared_error(y_test, y_test_pred)))"
   ]
  },
  {
   "cell_type": "markdown",
   "metadata": {},
   "source": [
    "## 11. Multiple Linear Regression\n",
    "\n",
    "\n",
    "Adding all the features to the model"
   ]
  },
  {
   "cell_type": "code",
   "execution_count": 40,
   "metadata": {},
   "outputs": [],
   "source": [
    "y_train=train.pop('price')\n",
    "X_train=train"
   ]
  },
  {
   "cell_type": "code",
   "execution_count": 41,
   "metadata": {},
   "outputs": [
    {
     "data": {
      "text/plain": [
       "const              0.02003\n",
       "mainroad           0.05044\n",
       "basement           0.02159\n",
       "prefarea           0.05943\n",
       "parking            0.06074\n",
       "semi-furnished     0.00092\n",
       "stories            0.10852\n",
       "bedrooms           0.04673\n",
       "hotwaterheating    0.08486\n",
       "area               0.23466\n",
       "unfurnished       -0.03101\n",
       "bathrooms          0.19082\n",
       "guestroom          0.03043\n",
       "airconditioning    0.06688\n",
       "dtype: float64"
      ]
     },
     "execution_count": 41,
     "metadata": {},
     "output_type": "execute_result"
    }
   ],
   "source": [
    "# add constant\n",
    "X_train_lm  = sm.add_constant(X_train)\n",
    "\n",
    "# creating OLS model\n",
    "lm3= sm.OLS(y_train,X_train_lm).fit()\n",
    "\n",
    "# parameters\n",
    "lm3.params.round(5)"
   ]
  },
  {
   "cell_type": "code",
   "execution_count": 42,
   "metadata": {},
   "outputs": [
    {
     "name": "stdout",
     "output_type": "stream",
     "text": [
      "                            OLS Regression Results                            \n",
      "==============================================================================\n",
      "Dep. Variable:                  price   R-squared:                       0.681\n",
      "Model:                            OLS   Adj. R-squared:                  0.670\n",
      "Method:                 Least Squares   F-statistic:                     60.40\n",
      "Date:                Sun, 20 Jun 2021   Prob (F-statistic):           8.83e-83\n",
      "Time:                        18:14:29   Log-Likelihood:                 381.79\n",
      "No. Observations:                 381   AIC:                            -735.6\n",
      "Df Residuals:                     367   BIC:                            -680.4\n",
      "Df Model:                          13                                         \n",
      "Covariance Type:            nonrobust                                         \n",
      "===================================================================================\n",
      "                      coef    std err          t      P>|t|      [0.025      0.975]\n",
      "-----------------------------------------------------------------------------------\n",
      "const               0.0200      0.021      0.955      0.340      -0.021       0.061\n",
      "mainroad            0.0504      0.014      3.520      0.000       0.022       0.079\n",
      "basement            0.0216      0.011      1.943      0.053      -0.000       0.043\n",
      "prefarea            0.0594      0.012      5.040      0.000       0.036       0.083\n",
      "parking             0.0607      0.018      3.365      0.001       0.025       0.096\n",
      "semi-furnished      0.0009      0.012      0.078      0.938      -0.022       0.024\n",
      "stories             0.1085      0.019      5.661      0.000       0.071       0.146\n",
      "bedrooms            0.0467      0.037      1.267      0.206      -0.026       0.119\n",
      "hotwaterheating     0.0849      0.022      3.934      0.000       0.042       0.127\n",
      "area                0.2347      0.030      7.795      0.000       0.175       0.294\n",
      "unfurnished        -0.0310      0.013     -2.440      0.015      -0.056      -0.006\n",
      "bathrooms           0.1908      0.022      8.679      0.000       0.148       0.234\n",
      "guestroom           0.0304      0.014      2.233      0.026       0.004       0.057\n",
      "airconditioning     0.0669      0.011      5.899      0.000       0.045       0.089\n",
      "==============================================================================\n",
      "Omnibus:                       93.687   Durbin-Watson:                   2.093\n",
      "Prob(Omnibus):                  0.000   Jarque-Bera (JB):              304.917\n",
      "Skew:                           1.091   Prob(JB):                     6.14e-67\n",
      "Kurtosis:                       6.801   Cond. No.                         14.6\n",
      "==============================================================================\n",
      "\n",
      "Notes:\n",
      "[1] Standard Errors assume that the covariance matrix of the errors is correctly specified.\n"
     ]
    }
   ],
   "source": [
    "print(lm3.summary())"
   ]
  },
  {
   "cell_type": "markdown",
   "metadata": {},
   "source": [
    "## 12. Hypothesis Testing and P values\n",
    "\n",
    "**Hypothesis Testing**\n",
    "Hypothesis testing is a statistical measure to test the result of our data. There are two types of hypothesis:\n",
    "1. Null Hypothesis\n",
    "2. Alternative Hypothesis\n",
    "\n",
    "For Null Hypothesis we can choose there is no relationship between 'sales' and other features available in the dataset i.e. coefficien of that feature is zero.\n",
    "\n",
    "So the alternative hypothesis would be :- There is an relationship between 'sales' and other features avalilable in the dataset i.e. coefficient of that feature is not zero.\n",
    "\n",
    "To test the hypothesis\n",
    "\n",
    "1. Reject the Null Hypothesis\n",
    "\n",
    "    1. There is a relationship\n",
    "    \n",
    "    2. If the 95% confidence interval does not include zero\n",
    "\n",
    "\n",
    "2. Fail to reject the Null Hypothesis\n",
    "\n",
    "    1. There is no relationship\n",
    "    2. If the 95% confidence interval includes zero\n",
    "    \n",
    "**P Value**\n",
    "\n",
    "P value denotes the probability of the feature that the coefficient of that feature is actually zero. So for having 95 % confdence in our model we consider the features having p value less than 0.05. That means we reject the null hypothesis and there is a relationship.\n",
    "\n",
    "For our dataset p value of feature 'semi-furnished' is too high (0.938). So we fail to reject our null hypothesis and there is no relationship."
   ]
  },
  {
   "cell_type": "code",
   "execution_count": 43,
   "metadata": {},
   "outputs": [],
   "source": [
    "#drop column ' semifurnished'\n",
    "X_train.drop('semi-furnished',axis=1,inplace=True)"
   ]
  },
  {
   "cell_type": "code",
   "execution_count": 44,
   "metadata": {},
   "outputs": [
    {
     "name": "stdout",
     "output_type": "stream",
     "text": [
      "                            OLS Regression Results                            \n",
      "==============================================================================\n",
      "Dep. Variable:                  price   R-squared:                       0.681\n",
      "Model:                            OLS   Adj. R-squared:                  0.671\n",
      "Method:                 Least Squares   F-statistic:                     65.61\n",
      "Date:                Sun, 20 Jun 2021   Prob (F-statistic):           1.07e-83\n",
      "Time:                        18:14:29   Log-Likelihood:                 381.79\n",
      "No. Observations:                 381   AIC:                            -737.6\n",
      "Df Residuals:                     368   BIC:                            -686.3\n",
      "Df Model:                          12                                         \n",
      "Covariance Type:            nonrobust                                         \n",
      "===================================================================================\n",
      "                      coef    std err          t      P>|t|      [0.025      0.975]\n",
      "-----------------------------------------------------------------------------------\n",
      "const               0.0207      0.019      1.098      0.273      -0.016       0.058\n",
      "mainroad            0.0504      0.014      3.524      0.000       0.022       0.079\n",
      "basement            0.0216      0.011      1.946      0.052      -0.000       0.043\n",
      "prefarea            0.0594      0.012      5.046      0.000       0.036       0.083\n",
      "parking             0.0608      0.018      3.372      0.001       0.025       0.096\n",
      "stories             0.1085      0.019      5.669      0.000       0.071       0.146\n",
      "bedrooms            0.0467      0.037      1.268      0.206      -0.026       0.119\n",
      "hotwaterheating     0.0849      0.022      3.941      0.000       0.043       0.127\n",
      "area                0.2344      0.030      7.845      0.000       0.176       0.293\n",
      "unfurnished        -0.0316      0.010     -3.096      0.002      -0.052      -0.012\n",
      "bathrooms           0.1909      0.022      8.697      0.000       0.148       0.234\n",
      "guestroom           0.0304      0.014      2.238      0.026       0.004       0.057\n",
      "airconditioning     0.0668      0.011      5.923      0.000       0.045       0.089\n",
      "==============================================================================\n",
      "Omnibus:                       93.538   Durbin-Watson:                   2.092\n",
      "Prob(Omnibus):                  0.000   Jarque-Bera (JB):              303.844\n",
      "Skew:                           1.090   Prob(JB):                     1.05e-66\n",
      "Kurtosis:                       6.794   Cond. No.                         14.1\n",
      "==============================================================================\n",
      "\n",
      "Notes:\n",
      "[1] Standard Errors assume that the covariance matrix of the errors is correctly specified.\n"
     ]
    }
   ],
   "source": [
    "# add constant\n",
    "X_train_lm  = sm.add_constant(X_train)\n",
    "\n",
    "# creating OLS model\n",
    "lm3= sm.OLS(y_train,X_train_lm).fit()\n",
    "\n",
    "# parameters\n",
    "lm3.params.round(5)\n",
    "\n",
    "print(lm3.summary())"
   ]
  },
  {
   "cell_type": "markdown",
   "metadata": {},
   "source": [
    "## 13. VIF\n",
    "\n",
    "Variance Inflation Factor or VIF, gives a basic quantitative idea about how much the feature variables are correlated with each other. The formula for calculating VIF is:\n",
    "\n",
    "$ VIF_i = \\frac{1}{1 - {R_i}^2} $\n",
    "\n",
    "And we generally consider the features haiving VIF less than 5."
   ]
  },
  {
   "cell_type": "code",
   "execution_count": 45,
   "metadata": {},
   "outputs": [
    {
     "data": {
      "text/html": [
       "<div>\n",
       "<style scoped>\n",
       "    .dataframe tbody tr th:only-of-type {\n",
       "        vertical-align: middle;\n",
       "    }\n",
       "\n",
       "    .dataframe tbody tr th {\n",
       "        vertical-align: top;\n",
       "    }\n",
       "\n",
       "    .dataframe thead th {\n",
       "        text-align: right;\n",
       "    }\n",
       "</style>\n",
       "<table border=\"1\" class=\"dataframe\">\n",
       "  <thead>\n",
       "    <tr style=\"text-align: right;\">\n",
       "      <th></th>\n",
       "      <th>Features</th>\n",
       "      <th>VIF</th>\n",
       "    </tr>\n",
       "  </thead>\n",
       "  <tbody>\n",
       "    <tr>\n",
       "      <th>5</th>\n",
       "      <td>bedrooms</td>\n",
       "      <td>6.59</td>\n",
       "    </tr>\n",
       "    <tr>\n",
       "      <th>0</th>\n",
       "      <td>mainroad</td>\n",
       "      <td>5.68</td>\n",
       "    </tr>\n",
       "    <tr>\n",
       "      <th>7</th>\n",
       "      <td>area</td>\n",
       "      <td>4.67</td>\n",
       "    </tr>\n",
       "    <tr>\n",
       "      <th>4</th>\n",
       "      <td>stories</td>\n",
       "      <td>2.69</td>\n",
       "    </tr>\n",
       "    <tr>\n",
       "      <th>3</th>\n",
       "      <td>parking</td>\n",
       "      <td>2.12</td>\n",
       "    </tr>\n",
       "    <tr>\n",
       "      <th>1</th>\n",
       "      <td>basement</td>\n",
       "      <td>2.01</td>\n",
       "    </tr>\n",
       "    <tr>\n",
       "      <th>11</th>\n",
       "      <td>airconditioning</td>\n",
       "      <td>1.77</td>\n",
       "    </tr>\n",
       "    <tr>\n",
       "      <th>9</th>\n",
       "      <td>bathrooms</td>\n",
       "      <td>1.67</td>\n",
       "    </tr>\n",
       "    <tr>\n",
       "      <th>2</th>\n",
       "      <td>prefarea</td>\n",
       "      <td>1.51</td>\n",
       "    </tr>\n",
       "    <tr>\n",
       "      <th>10</th>\n",
       "      <td>guestroom</td>\n",
       "      <td>1.47</td>\n",
       "    </tr>\n",
       "    <tr>\n",
       "      <th>8</th>\n",
       "      <td>unfurnished</td>\n",
       "      <td>1.40</td>\n",
       "    </tr>\n",
       "    <tr>\n",
       "      <th>6</th>\n",
       "      <td>hotwaterheating</td>\n",
       "      <td>1.14</td>\n",
       "    </tr>\n",
       "  </tbody>\n",
       "</table>\n",
       "</div>"
      ],
      "text/plain": [
       "           Features   VIF\n",
       "5          bedrooms  6.59\n",
       "0          mainroad  5.68\n",
       "7              area  4.67\n",
       "4           stories  2.69\n",
       "3           parking  2.12\n",
       "1          basement  2.01\n",
       "11  airconditioning  1.77\n",
       "9         bathrooms  1.67\n",
       "2          prefarea  1.51\n",
       "10        guestroom  1.47\n",
       "8       unfurnished  1.40\n",
       "6   hotwaterheating  1.14"
      ]
     },
     "execution_count": 45,
     "metadata": {},
     "output_type": "execute_result"
    }
   ],
   "source": [
    "vif = pd.DataFrame()\n",
    "vif['Features'] = X_train.columns\n",
    "vif['VIF'] = [variance_inflation_factor(X_train.values, i) for i in range(X_train.shape[1])]\n",
    "vif['VIF'] = round(vif['VIF'], 2)\n",
    "vif = vif.sort_values(by = \"VIF\", ascending = False)\n",
    "vif"
   ]
  },
  {
   "cell_type": "code",
   "execution_count": 46,
   "metadata": {},
   "outputs": [],
   "source": [
    "#drop column ' bedrooms'\n",
    "X_train.drop('bedrooms',axis=1,inplace=True)"
   ]
  },
  {
   "cell_type": "code",
   "execution_count": 47,
   "metadata": {},
   "outputs": [
    {
     "name": "stdout",
     "output_type": "stream",
     "text": [
      "                            OLS Regression Results                            \n",
      "==============================================================================\n",
      "Dep. Variable:                  price   R-squared:                       0.680\n",
      "Model:                            OLS   Adj. R-squared:                  0.671\n",
      "Method:                 Least Squares   F-statistic:                     71.31\n",
      "Date:                Sun, 20 Jun 2021   Prob (F-statistic):           2.73e-84\n",
      "Time:                        18:14:29   Log-Likelihood:                 380.96\n",
      "No. Observations:                 381   AIC:                            -737.9\n",
      "Df Residuals:                     369   BIC:                            -690.6\n",
      "Df Model:                          11                                         \n",
      "Covariance Type:            nonrobust                                         \n",
      "===================================================================================\n",
      "                      coef    std err          t      P>|t|      [0.025      0.975]\n",
      "-----------------------------------------------------------------------------------\n",
      "const               0.0357      0.015      2.421      0.016       0.007       0.065\n",
      "mainroad            0.0488      0.014      3.423      0.001       0.021       0.077\n",
      "basement            0.0239      0.011      2.183      0.030       0.002       0.045\n",
      "prefarea            0.0596      0.012      5.061      0.000       0.036       0.083\n",
      "parking             0.0629      0.018      3.501      0.001       0.028       0.098\n",
      "stories             0.1178      0.018      6.654      0.000       0.083       0.153\n",
      "hotwaterheating     0.0864      0.022      4.014      0.000       0.044       0.129\n",
      "area                0.2347      0.030      7.851      0.000       0.176       0.294\n",
      "unfurnished        -0.0323      0.010     -3.169      0.002      -0.052      -0.012\n",
      "bathrooms           0.1965      0.022      9.132      0.000       0.154       0.239\n",
      "guestroom           0.0301      0.014      2.211      0.028       0.003       0.057\n",
      "airconditioning     0.0665      0.011      5.895      0.000       0.044       0.089\n",
      "==============================================================================\n",
      "Omnibus:                       97.661   Durbin-Watson:                   2.097\n",
      "Prob(Omnibus):                  0.000   Jarque-Bera (JB):              325.388\n",
      "Skew:                           1.130   Prob(JB):                     2.20e-71\n",
      "Kurtosis:                       6.923   Cond. No.                         10.6\n",
      "==============================================================================\n",
      "\n",
      "Notes:\n",
      "[1] Standard Errors assume that the covariance matrix of the errors is correctly specified.\n"
     ]
    }
   ],
   "source": [
    "# add constant\n",
    "X_train_lm  = sm.add_constant(X_train)\n",
    "\n",
    "# creating OLS model\n",
    "lm3= sm.OLS(y_train,X_train_lm).fit()\n",
    "\n",
    "# parameters\n",
    "lm3.params.round(5)\n",
    "\n",
    "print(lm3.summary())"
   ]
  },
  {
   "cell_type": "code",
   "execution_count": 48,
   "metadata": {},
   "outputs": [
    {
     "data": {
      "text/html": [
       "<div>\n",
       "<style scoped>\n",
       "    .dataframe tbody tr th:only-of-type {\n",
       "        vertical-align: middle;\n",
       "    }\n",
       "\n",
       "    .dataframe tbody tr th {\n",
       "        vertical-align: top;\n",
       "    }\n",
       "\n",
       "    .dataframe thead th {\n",
       "        text-align: right;\n",
       "    }\n",
       "</style>\n",
       "<table border=\"1\" class=\"dataframe\">\n",
       "  <thead>\n",
       "    <tr style=\"text-align: right;\">\n",
       "      <th></th>\n",
       "      <th>Features</th>\n",
       "      <th>VIF</th>\n",
       "    </tr>\n",
       "  </thead>\n",
       "  <tbody>\n",
       "    <tr>\n",
       "      <th>0</th>\n",
       "      <td>mainroad</td>\n",
       "      <td>4.79</td>\n",
       "    </tr>\n",
       "    <tr>\n",
       "      <th>6</th>\n",
       "      <td>area</td>\n",
       "      <td>4.55</td>\n",
       "    </tr>\n",
       "    <tr>\n",
       "      <th>4</th>\n",
       "      <td>stories</td>\n",
       "      <td>2.23</td>\n",
       "    </tr>\n",
       "    <tr>\n",
       "      <th>3</th>\n",
       "      <td>parking</td>\n",
       "      <td>2.10</td>\n",
       "    </tr>\n",
       "    <tr>\n",
       "      <th>1</th>\n",
       "      <td>basement</td>\n",
       "      <td>1.87</td>\n",
       "    </tr>\n",
       "    <tr>\n",
       "      <th>10</th>\n",
       "      <td>airconditioning</td>\n",
       "      <td>1.76</td>\n",
       "    </tr>\n",
       "    <tr>\n",
       "      <th>8</th>\n",
       "      <td>bathrooms</td>\n",
       "      <td>1.61</td>\n",
       "    </tr>\n",
       "    <tr>\n",
       "      <th>2</th>\n",
       "      <td>prefarea</td>\n",
       "      <td>1.50</td>\n",
       "    </tr>\n",
       "    <tr>\n",
       "      <th>9</th>\n",
       "      <td>guestroom</td>\n",
       "      <td>1.46</td>\n",
       "    </tr>\n",
       "    <tr>\n",
       "      <th>7</th>\n",
       "      <td>unfurnished</td>\n",
       "      <td>1.33</td>\n",
       "    </tr>\n",
       "    <tr>\n",
       "      <th>5</th>\n",
       "      <td>hotwaterheating</td>\n",
       "      <td>1.12</td>\n",
       "    </tr>\n",
       "  </tbody>\n",
       "</table>\n",
       "</div>"
      ],
      "text/plain": [
       "           Features   VIF\n",
       "0          mainroad  4.79\n",
       "6              area  4.55\n",
       "4           stories  2.23\n",
       "3           parking  2.10\n",
       "1          basement  1.87\n",
       "10  airconditioning  1.76\n",
       "8         bathrooms  1.61\n",
       "2          prefarea  1.50\n",
       "9         guestroom  1.46\n",
       "7       unfurnished  1.33\n",
       "5   hotwaterheating  1.12"
      ]
     },
     "execution_count": 48,
     "metadata": {},
     "output_type": "execute_result"
    }
   ],
   "source": [
    "vif = pd.DataFrame()\n",
    "vif['Features'] = X_train.columns\n",
    "vif['VIF'] = [variance_inflation_factor(X_train.values, i) for i in range(X_train.shape[1])]\n",
    "vif['VIF'] = round(vif['VIF'], 2)\n",
    "vif = vif.sort_values(by = \"VIF\", ascending = False)\n",
    "vif"
   ]
  },
  {
   "cell_type": "markdown",
   "metadata": {},
   "source": [
    "So Now all the features having p value less than 0.05 and CIF less that 5. the remaining features we will use for ur final model."
   ]
  },
  {
   "cell_type": "markdown",
   "metadata": {},
   "source": [
    "## 14. Residual Analysis for Multiple Linear Regression"
   ]
  },
  {
   "cell_type": "markdown",
   "metadata": {},
   "source": [
    "`StastsModel`"
   ]
  },
  {
   "cell_type": "code",
   "execution_count": 49,
   "metadata": {},
   "outputs": [],
   "source": [
    "X_train_lm = sm.add_constant(X_train)\n",
    "y_train_pred=lm3.predict(X_train_lm)"
   ]
  },
  {
   "cell_type": "code",
   "execution_count": 50,
   "metadata": {},
   "outputs": [
    {
     "data": {
      "text/plain": [
       "Text(0.5, 0, 'Errors')"
      ]
     },
     "execution_count": 50,
     "metadata": {},
     "output_type": "execute_result"
    },
    {
     "data": {
      "image/png": "[encoded data removed]",
      "text/plain": [
       "<Figure size 432x288 with 1 Axes>"
      ]
     },
     "metadata": {
      "needs_background": "light"
     },
     "output_type": "display_data"
    }
   ],
   "source": [
    "sns.distplot((y_train - y_train_pred), bins = 20)\n",
    "plt.title('Error Terms', fontsize = 20) \n",
    "plt.xlabel('Errors', fontsize = 15)     "
   ]
  },
  {
   "cell_type": "markdown",
   "metadata": {},
   "source": [
    "## 15. Making Prediction Using final model"
   ]
  },
  {
   "cell_type": "markdown",
   "metadata": {},
   "source": [
    "`StatsModel`"
   ]
  },
  {
   "cell_type": "code",
   "execution_count": 51,
   "metadata": {},
   "outputs": [],
   "source": [
    "final_features=['mainroad','area','stories','parking','basement','airconditioning','bathrooms',\n",
    "                'prefarea','guestroom','unfurnished','hotwaterheating']\n",
    "\n",
    "X_test =X_test[final_features]"
   ]
  },
  {
   "cell_type": "code",
   "execution_count": 52,
   "metadata": {},
   "outputs": [],
   "source": [
    "X_test_lm=sm.add_constant(X_test)\n",
    "y_test_pred=lm3.predict(X_test_lm)"
   ]
  },
  {
   "cell_type": "code",
   "execution_count": 53,
   "metadata": {
    "scrolled": true
   },
   "outputs": [
    {
     "data": {
      "image/png": "[encoded data removed]",
      "text/plain": [
       "<Figure size 432x288 with 1 Axes>"
      ]
     },
     "metadata": {
      "needs_background": "light"
     },
     "output_type": "display_data"
    }
   ],
   "source": [
    "plt.scatter(y_test_pred,y_test)\n",
    "plt.xlabel('y_test_pred',fontsize=15)\n",
    "plt.ylabel('y_test',fontsize=15)\n",
    "plt.show()"
   ]
  },
  {
   "cell_type": "code",
   "execution_count": 54,
   "metadata": {},
   "outputs": [
    {
     "name": "stdout",
     "output_type": "stream",
     "text": [
      "MAE = 0.11813237365555174\n",
      "MSE = 0.025276713910291404\n",
      "RMSE = 0.15898652115915804\n"
     ]
    }
   ],
   "source": [
    "print(\"MAE =\",metrics.mean_absolute_error(y_test, y_test_pred))\n",
    "print(\"MSE =\",metrics.mean_squared_error(y_test, y_test_pred))\n",
    "print(\"RMSE =\",np.sqrt(metrics.mean_squared_error(y_test, y_test_pred)))"
   ]
  },
  {
   "cell_type": "code",
   "execution_count": 55,
   "metadata": {},
   "outputs": [
    {
     "data": {
      "text/plain": [
       "const              0.036\n",
       "mainroad           0.049\n",
       "basement           0.024\n",
       "prefarea           0.060\n",
       "parking            0.063\n",
       "stories            0.118\n",
       "hotwaterheating    0.086\n",
       "area               0.235\n",
       "unfurnished       -0.032\n",
       "bathrooms          0.196\n",
       "guestroom          0.030\n",
       "airconditioning    0.067\n",
       "dtype: float64"
      ]
     },
     "execution_count": 55,
     "metadata": {},
     "output_type": "execute_result"
    }
   ],
   "source": [
    "# final Parameter\n",
    "lm3.params.round(3)"
   ]
  },
  {
   "cell_type": "markdown",
   "metadata": {},
   "source": [
    "**So our final model is:**\n",
    "\n",
    "$ price = 0.0356 + 0.030 \\times guestroom + 0.063 \\times parking+ 0.118 \\times stories+\n",
    "0.196 \\times bathrooms+ 0.067 \\times airconditioning+ 0.235 \\times area+ 0.024 \\times basement+ 0.049 \\times mainroad\n",
    "+ 0.086 \\times hotwaterheating+ 0.060 \\times prefarea- 0.032 \\times unfurnished$"
   ]
  }
 ],
 "metadata": {
  "kernelspec": {
   "display_name": "Python 3",
   "language": "python",
   "name": "python3"
  },
  "language_info": {
   "codemirror_mode": {
    "name": "ipython",
    "version": 3
   },
   "file_extension": ".py",
   "mimetype": "text/x-python",
   "name": "python",
   "nbconvert_exporter": "python",
   "pygments_lexer": "ipython3",
   "version": "3.8.5"
  }
 },
 "nbformat": 4,
 "nbformat_minor": 4
}
